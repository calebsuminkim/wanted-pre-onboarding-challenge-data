{
 "cells": [
  {
   "cell_type": "code",
   "execution_count": 3,
   "id": "7d34f957",
   "metadata": {},
   "outputs": [],
   "source": [
    "# 필요한 라이브러리를 불러옵니다.\n",
    "import numpy as np"
   ]
  },
  {
   "cell_type": "markdown",
   "id": "e35027db",
   "metadata": {},
   "source": [
    "### 1. 값이 10~49인 numpy array를 만드세요"
   ]
  },
  {
   "cell_type": "code",
   "execution_count": 18,
   "id": "b46f27d1-7015-447c-b89e-fd4c8a2b1e0c",
   "metadata": {},
   "outputs": [
    {
     "name": "stdout",
     "output_type": "stream",
     "text": [
      "[10 11 12 13 14 15 16 17 18 19 20 21 22 23 24 25 26 27 28 29 30 31 32 33\n",
      " 34 35 36 37 38 39 40 41 42 43 44 45 46 47 48]\n"
     ]
    }
   ],
   "source": [
    "z = np.arange(10, 49)\n",
    "print(z)"
   ]
  },
  {
   "cell_type": "markdown",
   "id": "7fe92102",
   "metadata": {},
   "source": [
    "### 2. z를 반전하세요."
   ]
  },
  {
   "cell_type": "code",
   "execution_count": 19,
   "id": "f78638fa",
   "metadata": {},
   "outputs": [
    {
     "name": "stdout",
     "output_type": "stream",
     "text": [
      "[48 47 46 45 44 43 42 41 40 39 38 37 36 35 34 33 32 31 30 29 28 27 26 25\n",
      " 24 23 22 21 20 19 18 17 16 15 14 13 12 11 10]\n"
     ]
    }
   ],
   "source": [
    "z = z[::-1]\n",
    "print(z)"
   ]
  },
  {
   "cell_type": "markdown",
   "id": "a04b347c",
   "metadata": {},
   "source": [
    "### 3. 반전시킨 z 매트릭스를 10 x 4 매트릭스로 바꾸세요."
   ]
  },
  {
   "cell_type": "code",
   "execution_count": 23,
   "id": "fcf79ba9",
   "metadata": {},
   "outputs": [
    {
     "name": "stdout",
     "output_type": "stream",
     "text": [
      "[[48 47 46 45]\n",
      " [44 43 42 41]\n",
      " [40 39 38 37]\n",
      " [36 35 34 33]\n",
      " [32 31 30 29]\n",
      " [28 27 26 25]\n",
      " [24 23 22 21]\n",
      " [20 19 18 17]\n",
      " [16 15 14 13]\n",
      " [12 11 10 48]]\n"
     ]
    }
   ],
   "source": [
    "z = np.resize(z, (10, 4)) # resize를 사용하면 빈 자리를 데이터를 반복하여 채운다(48부터 다시 반복)\n",
    "print(z)"
   ]
  },
  {
   "cell_type": "markdown",
   "id": "a8fb1466",
   "metadata": {},
   "source": [
    "### 4. x에서 0이 아닌 요소의 색인을 찾아보세요."
   ]
  },
  {
   "cell_type": "code",
   "execution_count": 30,
   "id": "a57f8a10-06e2-402e-b4e1-e5d62e865707",
   "metadata": {},
   "outputs": [
    {
     "name": "stdout",
     "output_type": "stream",
     "text": [
      "(array([0, 1, 2, 4, 6]),)\n"
     ]
    }
   ],
   "source": [
    "x = np.array([5,6,8,0,1,0,7])\n",
    "nz_idx = np.nonzero(x)\n",
    "print(nz_idx)"
   ]
  },
  {
   "cell_type": "markdown",
   "id": "fb98a12e",
   "metadata": {},
   "source": [
    "### nan 값 이해하기\n",
    "\n"
   ]
  },
  {
   "cell_type": "code",
   "execution_count": 31,
   "id": "7d12b519",
   "metadata": {},
   "outputs": [
    {
     "name": "stdout",
     "output_type": "stream",
     "text": [
      "False\n",
      "True\n",
      "False\n",
      "True\n"
     ]
    }
   ],
   "source": [
    "print(np.nan == np.nan)\n",
    "print(np.isnan(np.nan))\n",
    "\n",
    "import math\n",
    "print(0.3 == 3 * 0.1)\n",
    "print(math.isclose(0.1 + 0.2, 0.3))"
   ]
  },
  {
   "cell_type": "markdown",
   "id": "87f765ae",
   "metadata": {},
   "source": [
    "### 5. 12 x 12 매트릭스를 만들어 바둑판 패턴으로 0과 1을 채우세요"
   ]
  },
  {
   "cell_type": "code",
   "execution_count": 165,
   "id": "3f40731b-8cce-44b1-a8ed-a6ae2eaeac9b",
   "metadata": {},
   "outputs": [
    {
     "name": "stdout",
     "output_type": "stream",
     "text": [
      "[[0. 0. 0. 0. 0. 0. 0. 0. 0. 0. 0. 0.]\n",
      " [0. 0. 0. 0. 0. 0. 0. 0. 0. 0. 0. 0.]\n",
      " [0. 0. 0. 0. 0. 0. 0. 0. 0. 0. 0. 0.]\n",
      " [0. 0. 0. 0. 0. 0. 0. 0. 0. 0. 0. 0.]\n",
      " [0. 0. 0. 0. 0. 0. 0. 0. 0. 0. 0. 0.]\n",
      " [0. 0. 0. 0. 0. 0. 0. 0. 0. 0. 0. 0.]\n",
      " [0. 0. 0. 0. 0. 0. 0. 0. 0. 0. 0. 0.]\n",
      " [0. 0. 0. 0. 0. 0. 0. 0. 0. 0. 0. 0.]\n",
      " [0. 0. 0. 0. 0. 0. 0. 0. 0. 0. 0. 0.]\n",
      " [0. 0. 0. 0. 0. 0. 0. 0. 0. 0. 0. 0.]\n",
      " [0. 0. 0. 0. 0. 0. 0. 0. 0. 0. 0. 0.]\n",
      " [0. 0. 0. 0. 0. 0. 0. 0. 0. 0. 0. 0.]]\n",
      "\n",
      "[[0. 1. 0. 1. 0. 1. 0. 1. 0. 1. 0. 1.]\n",
      " [1. 0. 1. 0. 1. 0. 1. 0. 1. 0. 1. 0.]\n",
      " [0. 1. 0. 1. 0. 1. 0. 1. 0. 1. 0. 1.]\n",
      " [1. 0. 1. 0. 1. 0. 1. 0. 1. 0. 1. 0.]\n",
      " [0. 1. 0. 1. 0. 1. 0. 1. 0. 1. 0. 1.]\n",
      " [1. 0. 1. 0. 1. 0. 1. 0. 1. 0. 1. 0.]\n",
      " [0. 1. 0. 1. 0. 1. 0. 1. 0. 1. 0. 1.]\n",
      " [1. 0. 1. 0. 1. 0. 1. 0. 1. 0. 1. 0.]\n",
      " [0. 1. 0. 1. 0. 1. 0. 1. 0. 1. 0. 1.]\n",
      " [1. 0. 1. 0. 1. 0. 1. 0. 1. 0. 1. 0.]\n",
      " [0. 1. 0. 1. 0. 1. 0. 1. 0. 1. 0. 1.]\n",
      " [1. 0. 1. 0. 1. 0. 1. 0. 1. 0. 1. 0.]]\n"
     ]
    }
   ],
   "source": [
    "x = np.zeros((12, 12))\n",
    "print(x, end='\\n\\n')\n",
    "###############\n",
    "# 슬라이싱을 사용하세요\n",
    "for i in range(len(x)):\n",
    "    if i%2 == 0:\n",
    "        x[i][1::2] = 1\n",
    "    else:\n",
    "        x[i][0::2] = 1\n",
    "###############\n",
    "print(x)"
   ]
  },
  {
   "cell_type": "markdown",
   "id": "8765875e",
   "metadata": {},
   "source": [
    "### 6. np.tile 을 이용해서 동일한 바둑판 배턴을 만들어보세요"
   ]
  },
  {
   "cell_type": "code",
   "execution_count": 8,
   "id": "c994f3be-8272-4473-9c48-40138c22d9e0",
   "metadata": {},
   "outputs": [
    {
     "name": "stdout",
     "output_type": "stream",
     "text": [
      "[[0 1 0 1 0 1 0 1 0 1 0 1]\n",
      " [1 0 1 0 1 0 1 0 1 0 1 0]\n",
      " [0 1 0 1 0 1 0 1 0 1 0 1]\n",
      " [1 0 1 0 1 0 1 0 1 0 1 0]\n",
      " [0 1 0 1 0 1 0 1 0 1 0 1]\n",
      " [1 0 1 0 1 0 1 0 1 0 1 0]\n",
      " [0 1 0 1 0 1 0 1 0 1 0 1]\n",
      " [1 0 1 0 1 0 1 0 1 0 1 0]\n",
      " [0 1 0 1 0 1 0 1 0 1 0 1]\n",
      " [1 0 1 0 1 0 1 0 1 0 1 0]\n",
      " [0 1 0 1 0 1 0 1 0 1 0 1]\n",
      " [1 0 1 0 1 0 1 0 1 0 1 0]]\n"
     ]
    }
   ],
   "source": [
    "x = np.tile([[0, 1],[1, 0]], (6, 6))\n",
    "print(x)"
   ]
  },
  {
   "cell_type": "markdown",
   "id": "b1a5847c",
   "metadata": {},
   "source": [
    "### 7. 1차원 배열이 x에서 값이 5~10인 요소를 0으로 바꾸세요"
   ]
  },
  {
   "cell_type": "code",
   "execution_count": 191,
   "id": "2524052a-74b4-4c8c-9d2e-d511b1fe8ad6",
   "metadata": {},
   "outputs": [
    {
     "data": {
      "text/plain": [
       "[5, 8, 34, 23, 7, 10]"
      ]
     },
     "execution_count": 191,
     "metadata": {},
     "output_type": "execute_result"
    }
   ],
   "source": [
    "x = np.array([2,5,3,8,3,34,23,7,10])\n",
    "\n",
    "new = [i for i in x if i>=5] # 5이상인 값만 따로 빼기\n",
    "new"
   ]
  },
  {
   "cell_type": "code",
   "execution_count": 189,
   "id": "6dca9270-1446-40a9-a464-9ea9186963bf",
   "metadata": {},
   "outputs": [
    {
     "data": {
      "text/plain": [
       "[0, 5, 0, 8, 0, 34, 23, 7, 10]"
      ]
     },
     "execution_count": 189,
     "metadata": {},
     "output_type": "execute_result"
    }
   ],
   "source": [
    "x = np.array([2,5,3,8,3,34,23,7,10])\n",
    "\n",
    "new = [i if i>=5 else 0 for i in x] # 5이상이면 그대로 가져오고 아니면 0으로 변환해서 가져옴\n",
    "new"
   ]
  },
  {
   "cell_type": "code",
   "execution_count": 192,
   "id": "bd215833",
   "metadata": {},
   "outputs": [
    {
     "ename": "SyntaxError",
     "evalue": "invalid syntax (4273011870.py, line 6)",
     "output_type": "error",
     "traceback": [
      "\u001b[0;36m  Cell \u001b[0;32mIn[192], line 6\u001b[0;36m\u001b[0m\n\u001b[0;31m    i if i>=5 else 0 for i in x\u001b[0m\n\u001b[0m                     ^\u001b[0m\n\u001b[0;31mSyntaxError\u001b[0m\u001b[0;31m:\u001b[0m invalid syntax\n"
     ]
    }
   ],
   "source": [
    "x = np.array([2,5,3,8,3,34,23,7,10])\n",
    "print(x)\n",
    "##################\n",
    "# 필터링을 사용하세요.\n",
    "def con(n):\n",
    "    i if i>=5 else 0 for i in x\n",
    "    \n",
    "x = filter(con, x)\n",
    "\n",
    "##################\n",
    "print(x)"
   ]
  },
  {
   "cell_type": "markdown",
   "id": "d5bd1501",
   "metadata": {},
   "source": [
    "### 8. 0에서 100 사이의 값으로 크기가 10인 1차원 array를 만드세요"
   ]
  },
  {
   "cell_type": "code",
   "execution_count": 19,
   "id": "88e38f0e",
   "metadata": {},
   "outputs": [
    {
     "name": "stdout",
     "output_type": "stream",
     "text": [
      "[27 35 91 69 49 39 78 73 99 48]\n"
     ]
    }
   ],
   "source": [
    "x = np.random.randint(0, 100, 10)\n",
    "print(x)"
   ]
  },
  {
   "cell_type": "markdown",
   "id": "143e78e1",
   "metadata": {},
   "source": [
    "### 9. np.allclose() 함수를 사용하여 2개의 array가 같은지를 확인해보세요"
   ]
  },
  {
   "cell_type": "code",
   "execution_count": 20,
   "id": "e3b21420-9a61-41b8-83d1-dbc635028940",
   "metadata": {},
   "outputs": [
    {
     "name": "stdout",
     "output_type": "stream",
     "text": [
      "True\n"
     ]
    }
   ],
   "source": [
    "A = np.array([1e10,1e-8])\n",
    "B = np.array([1.00001e10,1e-9])\n",
    "\n",
    "equal = np.allclose(A, B)\n",
    "print(equal)"
   ]
  },
  {
   "cell_type": "markdown",
   "id": "26819557",
   "metadata": {},
   "source": [
    "### 10. 데카르트 좌표를 나타내는 랜덤 8 x 2 행렬을 고려하여 극좌표로 변환해보세요."
   ]
  },
  {
   "cell_type": "code",
   "execution_count": 102,
   "id": "4136e249",
   "metadata": {},
   "outputs": [
    {
     "name": "stdout",
     "output_type": "stream",
     "text": [
      "[[0.25448066 1.15190582]\n",
      " [0.91513225 1.04227648]\n",
      " [0.71248906 0.80933779]\n",
      " [0.6943551  0.27811324]\n",
      " [0.44531314 0.94837777]\n",
      " [0.10710258 1.81818494]\n",
      " [0.64849544 1.05610814]\n",
      " [1.26954224 0.56305915]\n",
      " [0.49874787 0.47241885]\n",
      " [0.27159557 0.60990955]]\n"
     ]
    }
   ],
   "source": [
    "coord = np.random.random((10,2))\n",
    "x, y = coord[:,0], coord[:,1]\n",
    "r = x**2 + y**2\n",
    "theta = x / r\n",
    "ploar_coord = np.concatenate([r[:,np.newaxis], theta[:,np.newaxis]],axis=1)\n",
    "print(ploar_coord)"
   ]
  }
 ],
 "metadata": {
  "kernelspec": {
   "display_name": "Python 3 (ipykernel)",
   "language": "python",
   "name": "python3"
  },
  "language_info": {
   "codemirror_mode": {
    "name": "ipython",
    "version": 3
   },
   "file_extension": ".py",
   "mimetype": "text/x-python",
   "name": "python",
   "nbconvert_exporter": "python",
   "pygments_lexer": "ipython3",
   "version": "3.10.12"
  }
 },
 "nbformat": 4,
 "nbformat_minor": 5
}
